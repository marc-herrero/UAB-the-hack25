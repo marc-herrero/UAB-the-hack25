{
 "cells": [
  {
   "cell_type": "markdown",
   "metadata": {},
   "source": [
    "# NASA POWER API - Solar Irradiance Data\n",
    "\n",
    "This notebook retrieves yearly average solar power irradiance data from NASA's POWER API."
   ]
  },
  {
   "cell_type": "code",
   "execution_count": 12,
   "metadata": {},
   "outputs": [],
   "source": [
    "import requests\n",
    "import pandas as pd\n",
    "import matplotlib.pyplot as plt\n",
    "import json\n",
    "from datetime import datetime"
   ]
  },
  {
   "cell_type": "code",
   "execution_count": 13,
   "metadata": {},
   "outputs": [],
   "source": [
    "year = 2023\n",
    "num_years = 10\n",
    "\n",
    "start_date = year - num_years + 1\n",
    "end_date = year"
   ]
  },
  {
   "cell_type": "code",
   "execution_count": 14,
   "metadata": {},
   "outputs": [
    {
     "name": "stdout",
     "output_type": "stream",
     "text": [
      "{\n",
      "  \"type\": \"Feature\",\n",
      "  \"geometry\": {\n",
      "    \"type\": \"Point\",\n",
      "    \"coordinates\": [\n",
      "      -90.0,\n",
      "      40.0,\n",
      "      172.74\n",
      "    ]\n",
      "  },\n",
      "  \"properties\": {\n",
      "    \"parameter\": {\n",
      "      \"ALLSKY_SFC_SW_DWN\": {\n",
      "        \"201401\": 1.9,\n",
      "        \"201402\": 2.6,\n",
      "        \"201403\": 3.85,\n",
      "        \"201404\": 4.81,\n",
      "        \"201405\": 5.77,\n",
      "        \"201406\": 6.06,\n",
      "        \"201407\": 6.53,\n",
      "        \"201408\": 4.73,\n",
      "        \"201409\": 4.7,\n",
      "        \"201410\": 2.82,\n",
      "        \"201411\": 1.95,\n",
      "        \"201412\": 1.34,\n",
      "        \"201413\": 3.92,\n",
      "        \"201501\": 1.82,\n",
      "        \"201502\": 3.17,\n",
      "        \"201503\": 4.32,\n",
      "        \"201504\": 5.21,\n",
      "        \"201505\": 5.6,\n",
      "        \"201506\": 5.59,\n",
      "        \"201507\": 5.78,\n",
      "        \"201508\": 5.8,\n",
      "        \"201509\": 4.67,\n",
      "        \"201510\": 3.41,\n",
      "        \"201511\": 2.25,\n",
      "        \"201512\": 1.39,\n",
      "        \"201513\": 4.08,\n",
      "        \"201601\": 2.0,\n",
      "        \"201602\": 2.89,\n",
      "        \"201603\": 3.59,\n",
      "        \"201604\": 4.74,\n",
      "        \"201605\": 5.82,\n",
      "        \"201606\": 7.37,\n",
      "        \"201607\": 6.09,\n",
      "        \"201608\": 5.33,\n",
      "        \"201609\": 4.57,\n",
      "        \"201610\": 3.19,\n",
      "        \"201611\": 2.37,\n",
      "        \"201612\": 1.6,\n",
      "        \"201613\": 4.13,\n",
      "        \"201701\": 1.38,\n",
      "        \"201702\": 2.97,\n",
      "        \"201703\": 3.4,\n",
      "        \"201704\": 4.54,\n",
      "        \"201705\": 5.88,\n",
      "        \"201706\": 7.19,\n",
      "        \"201707\": 6.69,\n",
      "        \"201708\": 5.6,\n",
      "        \"201709\": 5.03,\n",
      "        \"201710\": 2.68,\n",
      "        \"201711\": 2.1,\n",
      "        \"201712\": 1.76,\n",
      "        \"201713\": 4.1,\n",
      "        \"201801\": 2.06,\n",
      "        \"201802\": 2.24,\n",
      "        \"201803\": 3.7,\n",
      "        \"201804\": 4.8,\n",
      "        \"201805\": 6.0,\n",
      "        \"201806\": 6.16,\n",
      "        \"201807\": 6.52,\n",
      "        \"201808\": 5.36,\n",
      "        \"201809\": 4.6,\n",
      "        \"201810\": 3.17,\n",
      "        \"201811\": 1.91,\n",
      "        \"201812\": 1.68,\n",
      "        \"201813\": 4.02,\n",
      "        \"201901\": 1.96,\n",
      "        \"201902\": 2.45,\n",
      "        \"201903\": 3.87,\n",
      "        \"201904\": 4.45,\n",
      "        \"201905\": 5.12,\n",
      "        \"201906\": 5.89,\n",
      "        \"201907\": 6.76,\n",
      "        \"201908\": 5.53,\n",
      "        \"201909\": 4.43,\n",
      "        \"201910\": 3.0,\n",
      "        \"201911\": 2.16,\n",
      "        \"201912\": 1.69,\n",
      "        \"201913\": 3.94,\n",
      "        \"202001\": 1.55,\n",
      "        \"202002\": 2.58,\n",
      "        \"202003\": 3.15,\n",
      "        \"202004\": 5.04,\n",
      "        \"202005\": 5.17,\n",
      "        \"202006\": 6.64,\n",
      "        \"202007\": 6.48,\n",
      "        \"202008\": 6.11,\n",
      "        \"202009\": 4.09,\n",
      "        \"202010\": 3.03,\n",
      "        \"202011\": 2.43,\n",
      "        \"202012\": 1.78,\n",
      "        \"202013\": 4.0,\n",
      "        \"202101\": 1.65,\n",
      "        \"202102\": 2.83,\n",
      "        \"202103\": 3.82,\n",
      "        \"202104\": 5.29,\n",
      "        \"202105\": 5.33,\n",
      "        \"202106\": 6.24,\n",
      "        \"202107\": 5.52,\n",
      "        \"202108\": 5.6,\n",
      "        \"202109\": 5.0,\n",
      "        \"202110\": 2.61,\n",
      "        \"202111\": 2.25,\n",
      "        \"202112\": 1.7,\n",
      "        \"202113\": 3.99,\n",
      "        \"202201\": 2.14,\n",
      "        \"202202\": 2.85,\n",
      "        \"202203\": 3.71,\n",
      "        \"202204\": 4.46,\n",
      "        \"202205\": 5.21,\n",
      "        \"202206\": 6.9,\n",
      "        \"202207\": 5.99,\n",
      "        \"202208\": 5.58,\n",
      "        \"202209\": 4.68,\n",
      "        \"202210\": 3.76,\n",
      "        \"202211\": 2.4,\n",
      "        \"202212\": 1.3,\n",
      "        \"202213\": 4.08,\n",
      "        \"202301\": 1.36,\n",
      "        \"202302\": 2.88,\n",
      "        \"202303\": 3.48,\n",
      "        \"202304\": 5.43,\n",
      "        \"202305\": 6.5,\n",
      "        \"202306\": 6.55,\n",
      "        \"202307\": 6.52,\n",
      "        \"202308\": 5.5,\n",
      "        \"202309\": 4.47,\n",
      "        \"202310\": 3.1,\n",
      "        \"202311\": 2.67,\n",
      "        \"202312\": 1.47,\n",
      "        \"202313\": 4.16\n",
      "      }\n",
      "    }\n",
      "  },\n",
      "  \"header\": {\n",
      "    \"title\": \"NASA/POWER Source Native Resolution Monthly and Annual\",\n",
      "    \"api\": {\n",
      "      \"version\": \"v2.6.7\",\n",
      "      \"name\": \"POWER Monthly and Annual API\"\n",
      "    },\n",
      "    \"sources\": [\n",
      "      \"SYN1DEG\"\n",
      "    ],\n",
      "    \"fill_value\": -999.0,\n",
      "    \"time_standard\": \"LST\",\n",
      "    \"start\": \"20140101\",\n",
      "    \"end\": \"20231231\"\n",
      "  },\n",
      "  \"messages\": [],\n",
      "  \"parameters\": {\n",
      "    \"ALLSKY_SFC_SW_DWN\": {\n",
      "      \"units\": \"kW-hr/m^2/day\",\n",
      "      \"longname\": \"All Sky Surface Shortwave Downward Irradiance\"\n",
      "    }\n",
      "  },\n",
      "  \"times\": {\n",
      "    \"data\": 3.557,\n",
      "    \"process\": 0.06\n",
      "  }\n",
      "}\n"
     ]
    }
   ],
   "source": [
    "# Define the parameter(s) you want (here global horizontal irradiance)\n",
    "parameters = \"ALLSKY_SFC_SW_DWN\"\n",
    "\n",
    "test_latitude = 40.0\n",
    "test_longitude = -90.0\n",
    "\n",
    "# Construct the API URL\n",
    "test_url = (\n",
    "    f\"https://power.larc.nasa.gov/api/temporal/monthly/point?\"\n",
    "    f\"parameters={parameters}&\"\n",
    "    f\"community=RE&\"\n",
    "    f\"longitude={test_longitude}&\"\n",
    "    f\"latitude={test_latitude}&\"\n",
    "    f\"start={start_date}&\"\n",
    "    f\"end={end_date}&\"\n",
    "    f\"format=JSON\"\n",
    ")\n",
    "\n",
    "# Make the API call\n",
    "response = requests.get(test_url)\n",
    "\n",
    "# Check if the call was successful\n",
    "if response.status_code == 200:\n",
    "    data = response.json()\n",
    "    # Print the result in a formatted way\n",
    "    print(json.dumps(data, indent=2))\n",
    "    \n",
    "else:\n",
    "    print(\"Error:\", response.status_code, response.text)"
   ]
  },
  {
   "cell_type": "markdown",
   "metadata": {},
   "source": [
    "## Set up API parameters\n",
    "\n",
    "The ALLSKY_SFC_SW_DWN parameter represents the all-sky surface downward shortwave irradiance (W/m²)."
   ]
  },
  {
   "cell_type": "code",
   "execution_count": 15,
   "metadata": {},
   "outputs": [
    {
     "name": "stdout",
     "output_type": "stream",
     "text": [
      "Retrieving solar irradiance data for coordinates (-10.7833, -53.08334) for year 2022\n"
     ]
    }
   ],
   "source": [
    "# Define location (Brazil)\n",
    "test_latitude = -10.7833\n",
    "test_longitude = -53.08334\n",
    "\n",
    "# NASA POWER API parameters\n",
    "base_url = \"https://power.larc.nasa.gov/api/temporal/monthly/point?\"\n",
    "parameters = \"ALLSKY_SFC_SW_DWN\"  # Solar irradiance at surface level (W/m²)\n",
    "\n",
    "# Build the full API request URL\n",
    "params = {\n",
    "    \"parameters\": parameters,\n",
    "    \"community\": \"RE\",  # Renewable Energy community\n",
    "    \"longitude\": test_longitude,\n",
    "    \"latitude\": test_latitude,\n",
    "    \"start\": start_date,\n",
    "    \"end\": end_date,\n",
    "    \"format\": \"JSON\"\n",
    "}\n",
    "\n",
    "print(f\"Retrieving solar irradiance data for coordinates ({test_latitude}, {test_longitude}) for year {year-1}\")"
   ]
  },
  {
   "cell_type": "markdown",
   "metadata": {},
   "source": [
    "## Make API request and process the data"
   ]
  },
  {
   "cell_type": "code",
   "execution_count": 16,
   "metadata": {},
   "outputs": [
    {
     "name": "stdout",
     "output_type": "stream",
     "text": [
      "\n",
      "Yearly average solar irradiance: 5.49 W/m²\n",
      "\n",
      "Sample of daily irradiance data:\n",
      "     Date  Irradiance\n",
      "0  201401        5.51\n",
      "1  201402        4.77\n",
      "2  201403        4.84\n",
      "3  201404        5.22\n",
      "4  201405        5.23\n"
     ]
    }
   ],
   "source": [
    "# Make the API request\n",
    "response = requests.get(base_url, params=params)\n",
    "\n",
    "if response.status_code == 200:\n",
    "    data = response.json()\n",
    "    \n",
    "    # Extract the solar irradiance data\n",
    "    irradiance_data = data['properties']['parameter']['ALLSKY_SFC_SW_DWN']\n",
    "    \n",
    "    # Convert to DataFrame for easier processing\n",
    "    df = pd.DataFrame(list(irradiance_data.items()), columns=['Date', 'Irradiance'])\n",
    "    \n",
    "    # Calculate yearly average\n",
    "    yearly_avg = df['Irradiance'].mean()\n",
    "    \n",
    "    print(f\"\\nYearly average solar irradiance: {yearly_avg:.2f} W/m²\")\n",
    "    \n",
    "    # Display first few rows of data\n",
    "    print(\"\\nSample of daily irradiance data:\")\n",
    "    print(df.head())\n",
    "    \n",
    "else:\n",
    "    print(f\"Error fetching data: {response.status_code}\")\n",
    "    print(response.text)"
   ]
  },
  {
   "cell_type": "markdown",
   "metadata": {},
   "source": [
    "## Visualize monthly averages"
   ]
  },
  {
   "cell_type": "code",
   "execution_count": 17,
   "metadata": {},
   "outputs": [
    {
     "data": {
      "image/png": "[encoded data removed]",
      "text/plain": [
       "<Figure size 1200x600 with 1 Axes>"
      ]
     },
     "metadata": {},
     "output_type": "display_data"
    }
   ],
   "source": [
    "# Data processing and visualization\n",
    "if response.status_code == 200:\n",
    "    # Add year column by extracting year from Date\n",
    "    df['Date'] = pd.to_datetime(df['Date'], format='%Y%M')\n",
    "    df['Year'] = df['Date'].dt.year\n",
    "    \n",
    "    # Extract month for plotting\n",
    "    df['Month'] = df['Date'].dt.month\n",
    "    \n",
    "    # Calculate yearly averages for each year in the dataset\n",
    "    yearly_avgs = df.groupby('Year')['Irradiance'].mean().reset_index()\n",
    "    \n",
    "    # Calculate overall mean across all years\n",
    "    overall_mean = yearly_avgs['Irradiance'].mean()\n",
    "    \n",
    "    # Plot yearly averages\n",
    "    plt.figure(figsize=(12, 6))\n",
    "    plt.bar(yearly_avgs['Year'], yearly_avgs['Irradiance'], color='skyblue', label='Yearly Average')\n",
    "    \n",
    "    # Add a horizontal line for the mean\n",
    "    plt.axhline(y=overall_mean, color='red', linestyle='--', label=f'Overall Mean: {overall_mean:.2f} W/m²')\n",
    "        \n",
    "    plt.title(f'Yearly Average Solar Irradiance')\n",
    "    plt.xlabel('Year')\n",
    "    plt.ylabel('Solar Irradiance (W/m²)')\n",
    "    plt.grid(axis='y', linestyle='--', alpha=0.7)\n",
    "    plt.legend()\n",
    "    plt.tight_layout()\n",
    "    plt.show()"
   ]
  },
  {
   "cell_type": "markdown",
   "metadata": {},
   "source": [
    "## Geographic Visualization of Solar Irradiance\n",
    "\n",
    "This section fetches solar irradiance data for a grid of locations and visualizes it on a map."
   ]
  },
  {
   "cell_type": "code",
   "execution_count": 18,
   "metadata": {},
   "outputs": [],
   "source": [
    "import numpy as np\n",
    "from concurrent.futures import ThreadPoolExecutor\n",
    "from tqdm.notebook import tqdm\n",
    "import time"
   ]
  },
  {
   "cell_type": "code",
   "execution_count": 19,
   "metadata": {},
   "outputs": [],
   "source": [
    "# Resolution of the grid (lower = more resolution but more API calls)\n",
    "resolution = 4.0 # degrees"
   ]
  },
  {
   "cell_type": "code",
   "execution_count": 20,
   "metadata": {},
   "outputs": [
    {
     "name": "stdout",
     "output_type": "stream",
     "text": [
      "Grid size: 21x16 = 336 points\n",
      "Sample coordinates: [(np.float64(-60.0), np.float64(-90.0)), (np.float64(-60.0), np.float64(-86.0)), (np.float64(-60.0), np.float64(-82.0)), (np.float64(-60.0), np.float64(-78.0)), (np.float64(-60.0), np.float64(-74.0))]\n"
     ]
    }
   ],
   "source": [
    "# Creating a grid of coordinates\n",
    "min_lat, max_lat = -60, 20\n",
    "min_lon, max_lon = -90, -30\n",
    "\n",
    "# Generate grid coordinates\n",
    "lats = np.arange(min_lat, max_lat + resolution, resolution)\n",
    "lons = np.arange(min_lon, max_lon + resolution, resolution)\n",
    "\n",
    "print(f\"Grid size: {len(lats)}x{len(lons)} = {len(lats)*len(lons)} points\")\n",
    "\n",
    "# Create list of coordinate pairs\n",
    "coordinates = [(lat, lon) for lat in lats for lon in lons]\n",
    "\n",
    "# Show sample of coordinates that will be queried\n",
    "print(f\"Sample coordinates: {coordinates[:5]}\")"
   ]
  },
  {
   "cell_type": "code",
   "execution_count": 10,
   "metadata": {},
   "outputs": [],
   "source": [
    "def fetch_yearly_avg_irradiance(lat, long):\n",
    "    params = {\n",
    "        \"parameters\": parameters,\n",
    "        \"community\": \"RE\",  # Renewable Energy community\n",
    "        \"latitude\": lat,\n",
    "        \"longitude\": long,\n",
    "        \"start\": start_date,\n",
    "        \"end\": end_date,\n",
    "        \"format\": \"JSON\"\n",
    "    }\n",
    "    \n",
    "    response = requests.get(base_url, params=params)\n",
    "\n",
    "    if response.status_code == 200:\n",
    "        data = response.json()\n",
    "        \n",
    "        irradiance_data = data['properties']['parameter']['ALLSKY_SFC_SW_DWN']\n",
    "        \n",
    "        df = pd.DataFrame(list(irradiance_data.items()), columns=['Date', 'Irradiance'])\n",
    "        \n",
    "        yearly_avg = df['Irradiance'].mean()\n",
    "        return lat, long, yearly_avg\n",
    "    \n",
    "    else:\n",
    "        print(f\"Error fetching data: {response.status_code}\")\n",
    "        print(response.text)\n",
    "        print(f\"Calling the funtion again...\")\n",
    "        time.sleep(1000)\n",
    "        fetch_yearly_avg_irradiance(lat, long)"
   ]
  },
  {
   "cell_type": "code",
   "execution_count": null,
   "metadata": {},
   "outputs": [],
   "source": [
    "def fetch_irradiance_grid(min_lat, max_lat, min_lon, max_lon, resolution):\n",
    "    \"\"\"\n",
    "    Fetch solar irradiance data from NASA POWER API for a geographical grid.\n",
    "    \n",
    "    Parameters:\n",
    "    -----------\n",
    "    min_lat : float\n",
    "        Minimum latitude of the area\n",
    "    max_lat : float\n",
    "        Maximum latitude of the area\n",
    "    min_lon : float\n",
    "        Minimum longitude of the area\n",
    "    max_lon : float\n",
    "        Maximum longitude of the area\n",
    "    resolution : float\n",
    "        Spacing between coordinates in degrees\n",
    "        \n",
    "    Returns:\n",
    "    --------\n",
    "    pd.DataFrame\n",
    "        DataFrame containing latitude, longitude, and irradiance values\n",
    "    \"\"\"\n",
    "    # Generate latitude and longitude arrays\n",
    "    lats = np.arange(min_lat, max_lat + resolution, resolution)\n",
    "    lons = np.arange(min_lon, max_lon + resolution, resolution)\n",
    "    \n",
    "    # Create all coordinate combinations\n",
    "    coordinates = [(lat, lon) for lat in lats for lon in lons]\n",
    "    \n",
    "    # Limit the number of points to fetch (to avoid API rate limits)\n",
    "    max_points = len(lats) * len(lons)\n",
    "    \n",
    "    print(f\"Fetching data for {len(coordinates)} locations...\")\n",
    "\n",
    "    # Fetch data using multithreading to speed up the process\n",
    "    results = []\n",
    "    with ThreadPoolExecutor(max_workers=None) as executor:\n",
    "        futures = [executor.submit(fetch_yearly_avg_irradiance, lat, lon) \n",
    "                  for lat, lon in coordinates]\n",
    "        \n",
    "        for future in tqdm(futures):\n",
    "            results.append(future.result())\n",
    "\n",
    "    # Filter out any failed requests\n",
    "    valid_results = [(lat, lon, avg) for lat, lon, avg in results if avg is not None]\n",
    "\n",
    "    print(f\"Successfully retrieved data for {len(valid_results)} out of {len(coordinates)} locations\")\n",
    "\n",
    "    # Extract data for visualization\n",
    "    map_data = [(lat, lon, avg) for lat, lon, avg in valid_results]\n",
    "\n",
    "    # Create DataFrame from results\n",
    "    irradiance_df = pd.DataFrame(map_data, columns=['latitude', 'longitude', 'irradiance'])\n",
    "    \n",
    "    # Save to CSV\n",
    "    csv_filename = f\"data/irradiance_data_res{resolution}.csv\"\n",
    "    irradiance_df.to_csv(csv_filename, index=False)\n",
    "    print(f\"Data saved to {csv_filename}\")\n",
    "    \n",
    "    return irradiance_df"
   ]
  },
  {
   "cell_type": "code",
   "execution_count": null,
   "metadata": {},
   "outputs": [],
   "source": [
    "import time\n",
    "import pandas as pd\n",
    "\n",
    "def fetch_irradiance_grid_in_quadrants(min_lat, max_lat, min_lon, max_lon, resolution=2., sleep_seconds=60):\n",
    "    \"\"\"\n",
    "    Fetch solar irradiance data by dividing the area into 4 quadrants with sleep time between calls.\n",
    "    \n",
    "    Parameters:\n",
    "    -----------\n",
    "    min_lat, max_lat, min_lon, max_lon : float\n",
    "        Boundaries of the target area\n",
    "    resolution : float\n",
    "        Spacing between coordinates in degrees\n",
    "    sleep_seconds : int, optional\n",
    "        Sleep time between API calls in seconds (default: 60)\n",
    "        \n",
    "    Returns:\n",
    "    --------\n",
    "    pd.DataFrame\n",
    "        Combined DataFrame with all irradiance data\n",
    "    \"\"\"\n",
    "    # Calculate the midpoints to split the area into 4 quadrants\n",
    "    mid_lat = (min_lat + max_lat) / 2\n",
    "    mid_lon = (min_lon + max_lon) / 2\n",
    "    \n",
    "    # Define the 4 quadrants\n",
    "    quadrants = [\n",
    "        {\"name\": \"Southwest\", \"min_lat\": min_lat, \"max_lat\": mid_lat, \"min_lon\": min_lon, \"max_lon\": mid_lon},\n",
    "        {\"name\": \"Southeast\", \"min_lat\": min_lat, \"max_lat\": mid_lat, \"min_lon\": mid_lon, \"max_lon\": max_lon},\n",
    "        {\"name\": \"Northeast\", \"min_lat\": mid_lat, \"max_lat\": max_lat, \"min_lon\": mid_lon, \"max_lon\": max_lon},\n",
    "        {\"name\": \"Northwest\", \"min_lat\": mid_lat, \"max_lat\": max_lat, \"min_lon\": min_lon, \"max_lon\": mid_lon}\n",
    "    ]\n",
    "    \n",
    "    # List to collect dataframes from each quadrant\n",
    "    quadrant_dfs = []\n",
    "    \n",
    "    # Fetch each quadrant with sleep time between calls\n",
    "    for i, q in enumerate(quadrants):\n",
    "        print(f\"\\n=== Fetching {q['name']} quadrant ({i+1}/4) ===\")\n",
    "        print(f\"Coordinates: Lat [{q['min_lat']:.4f} to {q['max_lat']:.4f}], Lon [{q['min_lon']:.4f} to {q['max_lon']:.4f}]\")\n",
    "        \n",
    "        df = fetch_irradiance_grid(\n",
    "            min_lat=q['min_lat'],\n",
    "            max_lat=q['max_lat'],\n",
    "            min_lon=q['min_lon'],\n",
    "            max_lon=q['max_lon'],\n",
    "            resolution=resolution\n",
    "        )\n",
    "        \n",
    "        quadrant_dfs.append(df)\n",
    "        \n",
    "        # Sleep before the next quadrant (except after the last one)\n",
    "        if i < 3:\n",
    "            print(f\"Sleeping for {sleep_seconds} seconds before next quadrant...\")\n",
    "            time.sleep(sleep_seconds)\n",
    "    \n",
    "    # Merge all dataframes\n",
    "    print(\"\\n=== Merging all quadrant data ===\")\n",
    "    combined_df = pd.concat(quadrant_dfs, ignore_index=True)\n",
    "    \n",
    "    # Remove any duplicates that might occur at the boundaries\n",
    "    combined_df = combined_df.drop_duplicates(subset=['latitude', 'longitude'])\n",
    "    \n",
    "    # Save the combined dataset\n",
    "    combined_filename = f\"data/irradiance_data_full_res{resolution}.csv\"\n",
    "    combined_df.to_csv(combined_filename, index=False)\n",
    "    print(f\"Combined dataset with {len(combined_df)} points saved to {combined_filename}\")\n",
    "    \n",
    "    return combined_df"
   ]
  },
  {
   "cell_type": "code",
   "execution_count": 13,
   "metadata": {},
   "outputs": [
    {
     "name": "stdout",
     "output_type": "stream",
     "text": [
      "\n",
      "=== Fetching Southwest quadrant (1/4) ===\n",
      "Coordinates: Lat [-60.0000 to -20.0000], Lon [-90.0000 to -60.0000]\n",
      "Fetching data for 336 locations...\n"
     ]
    },
    {
     "data": {
      "application/vnd.jupyter.widget-view+json": {
       "model_id": "bdd19cd51726458d848ac13d473fe5a2",
       "version_major": 2,
       "version_minor": 0
      },
      "text/plain": [
       "  0%|          | 0/336 [00:00<?, ?it/s]"
      ]
     },
     "metadata": {},
     "output_type": "display_data"
    },
    {
     "name": "stdout",
     "output_type": "stream",
     "text": [
      "Successfully retrieved data for 336 out of 336 locations\n",
      "Data saved to irradiance_data_res2.csv\n",
      "Sleeping for 200 seconds before next quadrant...\n",
      "\n",
      "=== Fetching Southeast quadrant (2/4) ===\n",
      "Coordinates: Lat [-60.0000 to -20.0000], Lon [-60.0000 to -30.0000]\n",
      "Fetching data for 336 locations...\n"
     ]
    },
    {
     "data": {
      "application/vnd.jupyter.widget-view+json": {
       "model_id": "d872b11f78b748d8b81c8aa083b7c640",
       "version_major": 2,
       "version_minor": 0
      },
      "text/plain": [
       "  0%|          | 0/336 [00:00<?, ?it/s]"
      ]
     },
     "metadata": {},
     "output_type": "display_data"
    },
    {
     "name": "stdout",
     "output_type": "stream",
     "text": [
      "Successfully retrieved data for 336 out of 336 locations\n",
      "Data saved to irradiance_data_res2.csv\n",
      "Sleeping for 200 seconds before next quadrant...\n",
      "\n",
      "=== Fetching Northeast quadrant (3/4) ===\n",
      "Coordinates: Lat [-20.0000 to 20.0000], Lon [-60.0000 to -30.0000]\n",
      "Fetching data for 336 locations...\n"
     ]
    },
    {
     "data": {
      "application/vnd.jupyter.widget-view+json": {
       "model_id": "00d0c5c8565f442e87ed33f61e736466",
       "version_major": 2,
       "version_minor": 0
      },
      "text/plain": [
       "  0%|          | 0/336 [00:00<?, ?it/s]"
      ]
     },
     "metadata": {},
     "output_type": "display_data"
    },
    {
     "name": "stdout",
     "output_type": "stream",
     "text": [
      "Successfully retrieved data for 336 out of 336 locations\n",
      "Data saved to irradiance_data_res2.csv\n",
      "Sleeping for 200 seconds before next quadrant...\n",
      "\n",
      "=== Fetching Northwest quadrant (4/4) ===\n",
      "Coordinates: Lat [-20.0000 to 20.0000], Lon [-90.0000 to -60.0000]\n",
      "Fetching data for 336 locations...\n"
     ]
    },
    {
     "data": {
      "application/vnd.jupyter.widget-view+json": {
       "model_id": "e088369c6f0f4ac79670d5a5b2f5c0c3",
       "version_major": 2,
       "version_minor": 0
      },
      "text/plain": [
       "  0%|          | 0/336 [00:00<?, ?it/s]"
      ]
     },
     "metadata": {},
     "output_type": "display_data"
    },
    {
     "name": "stdout",
     "output_type": "stream",
     "text": [
      "Successfully retrieved data for 336 out of 336 locations\n",
      "Data saved to irradiance_data_res2.csv\n",
      "\n",
      "=== Merging all quadrant data ===\n",
      "Combined dataset with 1271 points saved to irradiance_data_full_res2.csv\n"
     ]
    }
   ],
   "source": [
    "# Example usage\n",
    "irradiance_df = fetch_irradiance_grid_in_quadrants(\n",
    "    min_lat=min_lat,\n",
    "    max_lat=max_lat,\n",
    "    min_lon=min_lon,\n",
    "    max_lon=max_lon,\n",
    "    resolution=2,\n",
    "    sleep_seconds=200  # 2 minutes between API calls\n",
    ")"
   ]
  },
  {
   "cell_type": "code",
   "execution_count": null,
   "metadata": {},
   "outputs": [
    {
     "name": "stdout",
     "output_type": "stream",
     "text": [
      "Data saved to irradiance_data_full_res4.0.csv\n"
     ]
    }
   ],
   "source": [
    "timestamp = datetime.now().strftime(\"%Y%m%d_%H%M%S\")\n",
    "csv_filename = f\"data/irradiance_data_full_res{resolution}.csv\"\n",
    "irradiance_df.to_csv(csv_filename, index=False)\n",
    "print(f\"Data saved to {csv_filename}\")"
   ]
  },
  {
   "cell_type": "code",
   "execution_count": 21,
   "metadata": {},
   "outputs": [],
   "source": [
    "import cartopy.feature as cfeature\n",
    "import cartopy.crs as ccrs\n",
    "\n",
    "from scipy.interpolate import griddata"
   ]
  },
  {
   "cell_type": "code",
   "execution_count": null,
   "metadata": {},
   "outputs": [],
   "source": [
    "irradiance_df = pd.read_csv('data/irradiance_data_full_res2.csv')"
   ]
  },
  {
   "cell_type": "code",
   "execution_count": 23,
   "metadata": {},
   "outputs": [
    {
     "name": "stdout",
     "output_type": "stream",
     "text": [
      "41 31\n"
     ]
    }
   ],
   "source": [
    "unique_lats = irradiance_df['latitude'].nunique()\n",
    "unique_lons = irradiance_df['longitude'].nunique()\n",
    "\n",
    "print(unique_lats, unique_lons)"
   ]
  },
  {
   "cell_type": "code",
   "execution_count": 24,
   "metadata": {},
   "outputs": [],
   "source": [
    "# Create a finer grid for interpolation\n",
    "grid_lat = np.linspace(min_lat, max_lat, 401)\n",
    "grid_lon = np.linspace(min_lon, max_lon, 301)\n",
    "grid_lon, grid_lat = np.meshgrid(grid_lon, grid_lat)\n",
    "\n",
    "# Interpolate data - Important: Note the order of coordinates for proper interpolation\n",
    "points = irradiance_df[['longitude', 'latitude']].values\n",
    "values = irradiance_df['irradiance'].values\n",
    "# Use the same coordinate order for sample points and grid points\n",
    "grid_irr = griddata(points, values, (grid_lon, grid_lat), method='cubic')"
   ]
  },
  {
   "cell_type": "code",
   "execution_count": null,
   "metadata": {},
   "outputs": [
    {
     "name": "stdout",
     "output_type": "stream",
     "text": [
      "Interpolated data saved to interpolated_irradiance_2023_res4.0.csv\n"
     ]
    }
   ],
   "source": [
    "interpolated_df = pd.DataFrame({\n",
    "    'latitude': grid_lat.flatten(),\n",
    "    'longitude': grid_lon.flatten(),\n",
    "    'interpolated_irradiance': grid_irr.flatten()\n",
    "})\n",
    "\n",
    "interpolated_df = interpolated_df.dropna()\n",
    "\n",
    "interp_csv_filename = f\"data/interpolated_irradiance_{year}_res{resolution}.csv\"\n",
    "interpolated_df.to_csv(interp_csv_filename, index=False)\n",
    "print(f\"Interpolated data saved to {interp_csv_filename}\")"
   ]
  },
  {
   "cell_type": "code",
   "execution_count": 39,
   "metadata": {},
   "outputs": [
    {
     "data": {
      "image/png": "[encoded data removed]",
      "text/plain": [
       "<Figure size 700x600 with 2 Axes>"
      ]
     },
     "metadata": {},
     "output_type": "display_data"
    }
   ],
   "source": [
    "# Create a new figure with proper cartopy projection\n",
    "fig = plt.figure(figsize=(7, 6))\n",
    "ax = plt.axes(projection=ccrs.PlateCarree())\n",
    "\n",
    "# Plot the contour on the cartopy axes with proper projection\n",
    "contour = ax.contourf(grid_lon, grid_lat, grid_irr, cmap='viridis', \n",
    "                      levels=20, transform=ccrs.PlateCarree())\n",
    "\n",
    "# Add map features\n",
    "ax.add_feature(cfeature.COASTLINE, edgecolor='white', linewidth=0.8)\n",
    "ax.add_feature(cfeature.BORDERS, edgecolor='white', linewidth=0.5)\n",
    "\n",
    "# Add a color bar with clear labeling - increased pad value to move it right\n",
    "cbar = plt.colorbar(contour, ax=ax, orientation='vertical', pad=0.1, shrink=0.8)\n",
    "cbar.set_label('Solar Irradiance (W/m²)', fontsize=12, fontweight='bold')\n",
    "cbar.ax.tick_params(labelsize=10)\n",
    "\n",
    "# Add gridlines\n",
    "ax.gridlines(draw_labels=True, linewidth=0.5, alpha=0.3)\n",
    "\n",
    "# Set extent based on our data bounds\n",
    "ax.set_extent([min_lon, max_lon, min_lat, max_lat], ccrs.PlateCarree())\n",
    "\n",
    "plt.title(f'Interpolated Solar Irradiance Map for {year}', fontsize=14, fontweight='bold')\n",
    "plt.xlabel('Longitude')\n",
    "plt.ylabel('Latitude')\n",
    "plt.grid(alpha=0.3)\n",
    "plt.tight_layout()  # Added tight_layout for better spacing\n",
    "plt.savefig('Interpolated-Solar-irradiance-LatAm.png')\n",
    "plt.show()"
   ]
  },
  {
   "cell_type": "code",
   "execution_count": null,
   "metadata": {},
   "outputs": [],
   "source": []
  },
  {
   "cell_type": "code",
   "execution_count": null,
   "metadata": {},
   "outputs": [],
   "source": []
  },
  {
   "cell_type": "code",
   "execution_count": null,
   "metadata": {},
   "outputs": [],
   "source": []
  }
 ],
 "metadata": {
  "kernelspec": {
   "display_name": "datasci-ai-venv",
   "language": "python",
   "name": "python3"
  },
  "language_info": {
   "codemirror_mode": {
    "name": "ipython",
    "version": 3
   },
   "file_extension": ".py",
   "mimetype": "text/x-python",
   "name": "python",
   "nbconvert_exporter": "python",
   "pygments_lexer": "ipython3",
   "version": "3.12.3"
  }
 },
 "nbformat": 4,
 "nbformat_minor": 2
}
